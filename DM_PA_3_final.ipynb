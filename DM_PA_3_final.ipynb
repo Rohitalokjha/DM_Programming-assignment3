{
 "cells": [
  {
   "cell_type": "markdown",
   "id": "842c17ab-62ef-4252-9cfa-1e77a6fef068",
   "metadata": {},
   "source": [
    "# Data Mining: Programming Assignment 3"
   ]
  },
  {
   "cell_type": "markdown",
   "id": "6a495cc1-c818-484f-ae32-4a65c93380fd",
   "metadata": {},
   "source": [
    "Libraries Imported"
   ]
  },
  {
   "cell_type": "code",
   "execution_count": 2,
   "id": "4e0f2f61-fa32-4d39-97ee-b053411f6fc0",
   "metadata": {
    "tags": []
   },
   "outputs": [],
   "source": [
    "import pandas as pd\n",
    "import numpy as np\n",
    "import matplotlib.pyplot as plt\n",
    "import os\n",
    "import cv2\n",
    "import random\n",
    "from mlxtend.preprocessing import TransactionEncoder\n",
    "from mlxtend.frequent_patterns import apriori, fpmax, fpgrowth\n",
    "from mlxtend.frequent_patterns import association_rules\n",
    "import seaborn as sns\n",
    "from tensorflow import keras\n",
    "from tensorflow.keras import layers\n",
    "from sklearn.model_selection import train_test_split\n",
    "from pathlib import Path\n",
    "from keras.preprocessing.image import ImageDataGenerator\n",
    "from keras.models import Sequential\n",
    "from keras.layers import Conv2D, MaxPooling2D, Flatten, Dense"
   ]
  },
  {
   "cell_type": "markdown",
   "id": "dbfa90e3-ea56-4b2b-98d5-931f2ee205eb",
   "metadata": {},
   "source": [
    "## Association Rule Generation from Transaction Data"
   ]
  },
  {
   "cell_type": "markdown",
   "id": "8df52c2b-1e96-4804-88c1-b4066a2d37d9",
   "metadata": {
    "tags": []
   },
   "source": [
    "Dataset Used: Grocery_Items_23.csv"
   ]
  },
  {
   "cell_type": "code",
   "execution_count": 7,
   "id": "4008a381-3e84-4152-8472-4c699b9c95f3",
   "metadata": {
    "tags": []
   },
   "outputs": [
    {
     "name": "stdout",
     "output_type": "stream",
     "text": [
      "/Users/alokkumarjha/Downloads/Grocery_Items_23.csv\n"
     ]
    }
   ],
   "source": [
    "Grocery_Items_Files = '/Users/alokkumarjha/Downloads/Grocery_Items_23.csv'\n",
    "data = pd.read_csv(Grocery_Items_Files)\n",
    "print(Grocery_Items_Files)"
   ]
  },
  {
   "cell_type": "code",
   "execution_count": 9,
   "id": "13664452-d1a6-471f-8a0a-7c1405e61cff",
   "metadata": {
    "tags": []
   },
   "outputs": [
    {
     "data": {
      "text/html": [
       "<div>\n",
       "<style scoped>\n",
       "    .dataframe tbody tr th:only-of-type {\n",
       "        vertical-align: middle;\n",
       "    }\n",
       "\n",
       "    .dataframe tbody tr th {\n",
       "        vertical-align: top;\n",
       "    }\n",
       "\n",
       "    .dataframe thead th {\n",
       "        text-align: right;\n",
       "    }\n",
       "</style>\n",
       "<table border=\"1\" class=\"dataframe\">\n",
       "  <thead>\n",
       "    <tr style=\"text-align: right;\">\n",
       "      <th></th>\n",
       "      <th>0</th>\n",
       "      <th>1</th>\n",
       "      <th>2</th>\n",
       "      <th>3</th>\n",
       "      <th>4</th>\n",
       "      <th>5</th>\n",
       "      <th>6</th>\n",
       "      <th>7</th>\n",
       "      <th>8</th>\n",
       "      <th>9</th>\n",
       "      <th>10</th>\n",
       "    </tr>\n",
       "  </thead>\n",
       "  <tbody>\n",
       "    <tr>\n",
       "      <th>0</th>\n",
       "      <td>dishes</td>\n",
       "      <td>shopping bags</td>\n",
       "      <td>NaN</td>\n",
       "      <td>NaN</td>\n",
       "      <td>NaN</td>\n",
       "      <td>NaN</td>\n",
       "      <td>NaN</td>\n",
       "      <td>NaN</td>\n",
       "      <td>NaN</td>\n",
       "      <td>NaN</td>\n",
       "      <td>NaN</td>\n",
       "    </tr>\n",
       "    <tr>\n",
       "      <th>1</th>\n",
       "      <td>pastry</td>\n",
       "      <td>curd</td>\n",
       "      <td>bottled beer</td>\n",
       "      <td>NaN</td>\n",
       "      <td>NaN</td>\n",
       "      <td>NaN</td>\n",
       "      <td>NaN</td>\n",
       "      <td>NaN</td>\n",
       "      <td>NaN</td>\n",
       "      <td>NaN</td>\n",
       "      <td>NaN</td>\n",
       "    </tr>\n",
       "    <tr>\n",
       "      <th>2</th>\n",
       "      <td>sausage</td>\n",
       "      <td>whipped/sour cream</td>\n",
       "      <td>NaN</td>\n",
       "      <td>NaN</td>\n",
       "      <td>NaN</td>\n",
       "      <td>NaN</td>\n",
       "      <td>NaN</td>\n",
       "      <td>NaN</td>\n",
       "      <td>NaN</td>\n",
       "      <td>NaN</td>\n",
       "      <td>NaN</td>\n",
       "    </tr>\n",
       "    <tr>\n",
       "      <th>3</th>\n",
       "      <td>sugar</td>\n",
       "      <td>fruit/vegetable juice</td>\n",
       "      <td>margarine</td>\n",
       "      <td>NaN</td>\n",
       "      <td>NaN</td>\n",
       "      <td>NaN</td>\n",
       "      <td>NaN</td>\n",
       "      <td>NaN</td>\n",
       "      <td>NaN</td>\n",
       "      <td>NaN</td>\n",
       "      <td>NaN</td>\n",
       "    </tr>\n",
       "    <tr>\n",
       "      <th>4</th>\n",
       "      <td>frankfurter</td>\n",
       "      <td>cream cheese</td>\n",
       "      <td>NaN</td>\n",
       "      <td>NaN</td>\n",
       "      <td>NaN</td>\n",
       "      <td>NaN</td>\n",
       "      <td>NaN</td>\n",
       "      <td>NaN</td>\n",
       "      <td>NaN</td>\n",
       "      <td>NaN</td>\n",
       "      <td>NaN</td>\n",
       "    </tr>\n",
       "  </tbody>\n",
       "</table>\n",
       "</div>"
      ],
      "text/plain": [
       "             0                      1             2    3    4    5    6    7  \\\n",
       "0       dishes          shopping bags           NaN  NaN  NaN  NaN  NaN  NaN   \n",
       "1       pastry                   curd  bottled beer  NaN  NaN  NaN  NaN  NaN   \n",
       "2      sausage     whipped/sour cream           NaN  NaN  NaN  NaN  NaN  NaN   \n",
       "3        sugar  fruit/vegetable juice     margarine  NaN  NaN  NaN  NaN  NaN   \n",
       "4  frankfurter          cream cheese            NaN  NaN  NaN  NaN  NaN  NaN   \n",
       "\n",
       "     8    9   10  \n",
       "0  NaN  NaN  NaN  \n",
       "1  NaN  NaN  NaN  \n",
       "2  NaN  NaN  NaN  \n",
       "3  NaN  NaN  NaN  \n",
       "4  NaN  NaN  NaN  "
      ]
     },
     "execution_count": 9,
     "metadata": {},
     "output_type": "execute_result"
    }
   ],
   "source": [
    "grocery_items = pd.read_csv(Grocery_Items_Files)\n",
    "grocery_items.head()"
   ]
  },
  {
   "cell_type": "code",
   "execution_count": 11,
   "id": "07331546-38f6-4ee9-a2f0-a40860e09abc",
   "metadata": {
    "tags": []
   },
   "outputs": [],
   "source": [
    "grocery_items_ = grocery_items.apply(lambda row: row.dropna().to_list(), axis = 1)\n",
    "grocery_items_list = grocery_items_.to_list()"
   ]
  },
  {
   "cell_type": "code",
   "execution_count": 13,
   "id": "d1526e53-e648-4964-9efb-95456525ea6c",
   "metadata": {
    "tags": []
   },
   "outputs": [],
   "source": [
    "te = TransactionEncoder()\n",
    "te_ary = te.fit(grocery_items_list).transform(grocery_items_list)\n",
    "df = pd.DataFrame(te_ary, columns = te.columns_)"
   ]
  },
  {
   "cell_type": "markdown",
   "id": "cf5f45a7-b79f-4636-ba03-033fe73e5cf0",
   "metadata": {},
   "source": [
    "Reference: https://rasbt.github.io/mlxtend/user_guide/frequent_patterns/association_rules/#association_rules-association-rules-generation-from-frequent-itemsets"
   ]
  },
  {
   "cell_type": "code",
   "execution_count": 15,
   "id": "9d48bf2b-d07c-4bb5-bb98-d11b3ff67bc0",
   "metadata": {
    "tags": []
   },
   "outputs": [
    {
     "data": {
      "text/html": [
       "<div>\n",
       "<style scoped>\n",
       "    .dataframe tbody tr th:only-of-type {\n",
       "        vertical-align: middle;\n",
       "    }\n",
       "\n",
       "    .dataframe tbody tr th {\n",
       "        vertical-align: top;\n",
       "    }\n",
       "\n",
       "    .dataframe thead th {\n",
       "        text-align: right;\n",
       "    }\n",
       "</style>\n",
       "<table border=\"1\" class=\"dataframe\">\n",
       "  <thead>\n",
       "    <tr style=\"text-align: right;\">\n",
       "      <th></th>\n",
       "      <th>support</th>\n",
       "      <th>itemsets</th>\n",
       "    </tr>\n",
       "  </thead>\n",
       "  <tbody>\n",
       "    <tr>\n",
       "      <th>0</th>\n",
       "      <td>0.020250</td>\n",
       "      <td>(UHT-milk)</td>\n",
       "    </tr>\n",
       "    <tr>\n",
       "      <th>1</th>\n",
       "      <td>0.033750</td>\n",
       "      <td>(beef)</td>\n",
       "    </tr>\n",
       "    <tr>\n",
       "      <th>2</th>\n",
       "      <td>0.021625</td>\n",
       "      <td>(berries)</td>\n",
       "    </tr>\n",
       "    <tr>\n",
       "      <th>3</th>\n",
       "      <td>0.015375</td>\n",
       "      <td>(beverages)</td>\n",
       "    </tr>\n",
       "    <tr>\n",
       "      <th>4</th>\n",
       "      <td>0.044000</td>\n",
       "      <td>(bottled beer)</td>\n",
       "    </tr>\n",
       "    <tr>\n",
       "      <th>...</th>\n",
       "      <td>...</td>\n",
       "      <td>...</td>\n",
       "    </tr>\n",
       "    <tr>\n",
       "      <th>63</th>\n",
       "      <td>0.010500</td>\n",
       "      <td>(other vegetables, soda)</td>\n",
       "    </tr>\n",
       "    <tr>\n",
       "      <th>64</th>\n",
       "      <td>0.015500</td>\n",
       "      <td>(whole milk, other vegetables)</td>\n",
       "    </tr>\n",
       "    <tr>\n",
       "      <th>65</th>\n",
       "      <td>0.014750</td>\n",
       "      <td>(rolls/buns, whole milk)</td>\n",
       "    </tr>\n",
       "    <tr>\n",
       "      <th>66</th>\n",
       "      <td>0.013500</td>\n",
       "      <td>(whole milk, soda)</td>\n",
       "    </tr>\n",
       "    <tr>\n",
       "      <th>67</th>\n",
       "      <td>0.011875</td>\n",
       "      <td>(yogurt, whole milk)</td>\n",
       "    </tr>\n",
       "  </tbody>\n",
       "</table>\n",
       "<p>68 rows × 2 columns</p>\n",
       "</div>"
      ],
      "text/plain": [
       "     support                        itemsets\n",
       "0   0.020250                      (UHT-milk)\n",
       "1   0.033750                          (beef)\n",
       "2   0.021625                       (berries)\n",
       "3   0.015375                     (beverages)\n",
       "4   0.044000                  (bottled beer)\n",
       "..       ...                             ...\n",
       "63  0.010500        (other vegetables, soda)\n",
       "64  0.015500  (whole milk, other vegetables)\n",
       "65  0.014750        (rolls/buns, whole milk)\n",
       "66  0.013500              (whole milk, soda)\n",
       "67  0.011875            (yogurt, whole milk)\n",
       "\n",
       "[68 rows x 2 columns]"
      ]
     },
     "execution_count": 15,
     "metadata": {},
     "output_type": "execute_result"
    }
   ],
   "source": [
    "frequent_itemsets = apriori(df, min_support = 0.01, use_colnames = True)\n",
    "frequent_itemsets"
   ]
  },
  {
   "cell_type": "code",
   "execution_count": 16,
   "id": "253aa0e3-8b57-49fc-9f2e-5795f45e91d7",
   "metadata": {
    "tags": []
   },
   "outputs": [
    {
     "data": {
      "text/html": [
       "<div>\n",
       "<style scoped>\n",
       "    .dataframe tbody tr th:only-of-type {\n",
       "        vertical-align: middle;\n",
       "    }\n",
       "\n",
       "    .dataframe tbody tr th {\n",
       "        vertical-align: top;\n",
       "    }\n",
       "\n",
       "    .dataframe thead th {\n",
       "        text-align: right;\n",
       "    }\n",
       "</style>\n",
       "<table border=\"1\" class=\"dataframe\">\n",
       "  <thead>\n",
       "    <tr style=\"text-align: right;\">\n",
       "      <th></th>\n",
       "      <th>antecedents</th>\n",
       "      <th>consequents</th>\n",
       "      <th>antecedent support</th>\n",
       "      <th>consequent support</th>\n",
       "      <th>support</th>\n",
       "      <th>confidence</th>\n",
       "      <th>lift</th>\n",
       "      <th>leverage</th>\n",
       "      <th>conviction</th>\n",
       "      <th>zhangs_metric</th>\n",
       "    </tr>\n",
       "  </thead>\n",
       "  <tbody>\n",
       "    <tr>\n",
       "      <th>0</th>\n",
       "      <td>(soda)</td>\n",
       "      <td>(other vegetables)</td>\n",
       "      <td>0.09825</td>\n",
       "      <td>0.124250</td>\n",
       "      <td>0.010500</td>\n",
       "      <td>0.106870</td>\n",
       "      <td>0.860123</td>\n",
       "      <td>-0.001708</td>\n",
       "      <td>0.980541</td>\n",
       "      <td>-0.152789</td>\n",
       "    </tr>\n",
       "    <tr>\n",
       "      <th>1</th>\n",
       "      <td>(other vegetables)</td>\n",
       "      <td>(whole milk)</td>\n",
       "      <td>0.12425</td>\n",
       "      <td>0.161875</td>\n",
       "      <td>0.015500</td>\n",
       "      <td>0.124748</td>\n",
       "      <td>0.770647</td>\n",
       "      <td>-0.004613</td>\n",
       "      <td>0.957582</td>\n",
       "      <td>-0.253640</td>\n",
       "    </tr>\n",
       "    <tr>\n",
       "      <th>2</th>\n",
       "      <td>(rolls/buns)</td>\n",
       "      <td>(whole milk)</td>\n",
       "      <td>0.11125</td>\n",
       "      <td>0.161875</td>\n",
       "      <td>0.014750</td>\n",
       "      <td>0.132584</td>\n",
       "      <td>0.819053</td>\n",
       "      <td>-0.003259</td>\n",
       "      <td>0.966232</td>\n",
       "      <td>-0.199087</td>\n",
       "    </tr>\n",
       "    <tr>\n",
       "      <th>3</th>\n",
       "      <td>(soda)</td>\n",
       "      <td>(whole milk)</td>\n",
       "      <td>0.09825</td>\n",
       "      <td>0.161875</td>\n",
       "      <td>0.013500</td>\n",
       "      <td>0.137405</td>\n",
       "      <td>0.848831</td>\n",
       "      <td>-0.002404</td>\n",
       "      <td>0.971632</td>\n",
       "      <td>-0.164923</td>\n",
       "    </tr>\n",
       "    <tr>\n",
       "      <th>4</th>\n",
       "      <td>(yogurt)</td>\n",
       "      <td>(whole milk)</td>\n",
       "      <td>0.08650</td>\n",
       "      <td>0.161875</td>\n",
       "      <td>0.011875</td>\n",
       "      <td>0.137283</td>\n",
       "      <td>0.848082</td>\n",
       "      <td>-0.002127</td>\n",
       "      <td>0.971495</td>\n",
       "      <td>-0.163945</td>\n",
       "    </tr>\n",
       "  </tbody>\n",
       "</table>\n",
       "</div>"
      ],
      "text/plain": [
       "          antecedents         consequents  antecedent support  \\\n",
       "0              (soda)  (other vegetables)             0.09825   \n",
       "1  (other vegetables)        (whole milk)             0.12425   \n",
       "2        (rolls/buns)        (whole milk)             0.11125   \n",
       "3              (soda)        (whole milk)             0.09825   \n",
       "4            (yogurt)        (whole milk)             0.08650   \n",
       "\n",
       "   consequent support   support  confidence      lift  leverage  conviction  \\\n",
       "0            0.124250  0.010500    0.106870  0.860123 -0.001708    0.980541   \n",
       "1            0.161875  0.015500    0.124748  0.770647 -0.004613    0.957582   \n",
       "2            0.161875  0.014750    0.132584  0.819053 -0.003259    0.966232   \n",
       "3            0.161875  0.013500    0.137405  0.848831 -0.002404    0.971632   \n",
       "4            0.161875  0.011875    0.137283  0.848082 -0.002127    0.971495   \n",
       "\n",
       "   zhangs_metric  \n",
       "0      -0.152789  \n",
       "1      -0.253640  \n",
       "2      -0.199087  \n",
       "3      -0.164923  \n",
       "4      -0.163945  "
      ]
     },
     "execution_count": 16,
     "metadata": {},
     "output_type": "execute_result"
    }
   ],
   "source": [
    "association_rules(frequent_itemsets, metric = \"confidence\", min_threshold = 0.1)"
   ]
  },
  {
   "cell_type": "code",
   "execution_count": 22,
   "id": "28b38f0a-c827-45db-8edf-a3e04cd20450",
   "metadata": {
    "tags": []
   },
   "outputs": [
    {
     "name": "stdout",
     "output_type": "stream",
     "text": [
      "           antecedents         consequents   support  confidence\n",
      "11              (soda)  (other vegetables)  0.010500    0.106870\n",
      "12  (other vegetables)        (whole milk)  0.015500    0.124748\n",
      "17        (rolls/buns)        (whole milk)  0.014750    0.132584\n",
      "22              (soda)        (whole milk)  0.013500    0.137405\n",
      "24            (yogurt)        (whole milk)  0.011875    0.137283\n"
     ]
    }
   ],
   "source": [
    "filtered_rules = association_rules(itemsets, metric=\"confidence\", min_threshold=0.1)\n",
    "filtered_rules = filtered_rules[filtered_rules['support'] >= 0.01]\n",
    "\n",
    "print(filtered_rules[['antecedents', 'consequents', 'support', 'confidence']])"
   ]
  },
  {
   "cell_type": "markdown",
   "id": "cf49eb6f-047e-4670-a0b6-dbb3dce0e478",
   "metadata": {},
   "source": [
    ": These rules represent associations between different items based on the specified minimum support and confidence threshold."
   ]
  },
  {
   "cell_type": "code",
   "execution_count": 17,
   "id": "097a8777-92f6-4f33-ad83-f295456ef055",
   "metadata": {
    "tags": []
   },
   "outputs": [
    {
     "data": {
      "text/html": [
       "<div>\n",
       "<style scoped>\n",
       "    .dataframe tbody tr th:only-of-type {\n",
       "        vertical-align: middle;\n",
       "    }\n",
       "\n",
       "    .dataframe tbody tr th {\n",
       "        vertical-align: top;\n",
       "    }\n",
       "\n",
       "    .dataframe thead th {\n",
       "        text-align: right;\n",
       "    }\n",
       "</style>\n",
       "<table border=\"1\" class=\"dataframe\">\n",
       "  <thead>\n",
       "    <tr style=\"text-align: right;\">\n",
       "      <th></th>\n",
       "      <th>msv</th>\n",
       "      <th>mct</th>\n",
       "      <th>counts</th>\n",
       "    </tr>\n",
       "  </thead>\n",
       "  <tbody>\n",
       "    <tr>\n",
       "      <th>0</th>\n",
       "      <td>0.001</td>\n",
       "      <td>0.050</td>\n",
       "      <td>162</td>\n",
       "    </tr>\n",
       "    <tr>\n",
       "      <th>1</th>\n",
       "      <td>0.001</td>\n",
       "      <td>0.075</td>\n",
       "      <td>162</td>\n",
       "    </tr>\n",
       "    <tr>\n",
       "      <th>2</th>\n",
       "      <td>0.001</td>\n",
       "      <td>0.100</td>\n",
       "      <td>162</td>\n",
       "    </tr>\n",
       "    <tr>\n",
       "      <th>3</th>\n",
       "      <td>0.005</td>\n",
       "      <td>0.050</td>\n",
       "      <td>25</td>\n",
       "    </tr>\n",
       "    <tr>\n",
       "      <th>4</th>\n",
       "      <td>0.005</td>\n",
       "      <td>0.075</td>\n",
       "      <td>25</td>\n",
       "    </tr>\n",
       "    <tr>\n",
       "      <th>5</th>\n",
       "      <td>0.005</td>\n",
       "      <td>0.100</td>\n",
       "      <td>25</td>\n",
       "    </tr>\n",
       "    <tr>\n",
       "      <th>6</th>\n",
       "      <td>0.010</td>\n",
       "      <td>0.050</td>\n",
       "      <td>5</td>\n",
       "    </tr>\n",
       "    <tr>\n",
       "      <th>7</th>\n",
       "      <td>0.010</td>\n",
       "      <td>0.075</td>\n",
       "      <td>5</td>\n",
       "    </tr>\n",
       "    <tr>\n",
       "      <th>8</th>\n",
       "      <td>0.010</td>\n",
       "      <td>0.100</td>\n",
       "      <td>5</td>\n",
       "    </tr>\n",
       "    <tr>\n",
       "      <th>9</th>\n",
       "      <td>0.050</td>\n",
       "      <td>0.050</td>\n",
       "      <td>0</td>\n",
       "    </tr>\n",
       "    <tr>\n",
       "      <th>10</th>\n",
       "      <td>0.050</td>\n",
       "      <td>0.075</td>\n",
       "      <td>0</td>\n",
       "    </tr>\n",
       "    <tr>\n",
       "      <th>11</th>\n",
       "      <td>0.050</td>\n",
       "      <td>0.100</td>\n",
       "      <td>0</td>\n",
       "    </tr>\n",
       "  </tbody>\n",
       "</table>\n",
       "</div>"
      ],
      "text/plain": [
       "      msv    mct  counts\n",
       "0   0.001  0.050     162\n",
       "1   0.001  0.075     162\n",
       "2   0.001  0.100     162\n",
       "3   0.005  0.050      25\n",
       "4   0.005  0.075      25\n",
       "5   0.005  0.100      25\n",
       "6   0.010  0.050       5\n",
       "7   0.010  0.075       5\n",
       "8   0.010  0.100       5\n",
       "9   0.050  0.050       0\n",
       "10  0.050  0.075       0\n",
       "11  0.050  0.100       0"
      ]
     },
     "execution_count": 17,
     "metadata": {},
     "output_type": "execute_result"
    }
   ],
   "source": [
    "Confidence_counts = pd.DataFrame(columns=['msv', 'mct', 'counts'])\n",
    "\n",
    "min_support_ = []\n",
    "min_confidence_ = []\n",
    "counts = []\n",
    "for min_support in [0.001, 0.005, 0.01, 0.05]:\n",
    "    for min_confidence in [0.05, 0.075, 0.1]:\n",
    "        frequent_itemsets = apriori(df, min_support=min_support, use_colnames=True)\n",
    "        association_rules_df = association_rules(frequent_itemsets, metric=\"confidence\", min_threshold=0.1)\n",
    "        min_support_.append(min_support)\n",
    "        min_confidence_.append(min_confidence)\n",
    "        counts.append(len(association_rules_df))\n",
    "\n",
    "Confidence_counts['msv'] = min_support_\n",
    "Confidence_counts['mct'] = min_confidence_\n",
    "Confidence_counts['counts'] = counts\n",
    "Confidence_counts"
   ]
  },
  {
   "cell_type": "code",
   "execution_count": 18,
   "id": "843e0499-213a-4a63-aec3-3d7a01811af8",
   "metadata": {
    "tags": []
   },
   "outputs": [
    {
     "data": {
      "text/html": [
       "<div>\n",
       "<style scoped>\n",
       "    .dataframe tbody tr th:only-of-type {\n",
       "        vertical-align: middle;\n",
       "    }\n",
       "\n",
       "    .dataframe tbody tr th {\n",
       "        vertical-align: top;\n",
       "    }\n",
       "\n",
       "    .dataframe thead th {\n",
       "        text-align: right;\n",
       "    }\n",
       "</style>\n",
       "<table border=\"1\" class=\"dataframe\">\n",
       "  <thead>\n",
       "    <tr style=\"text-align: right;\">\n",
       "      <th>msv</th>\n",
       "      <th>0.001</th>\n",
       "      <th>0.005</th>\n",
       "      <th>0.010</th>\n",
       "      <th>0.050</th>\n",
       "    </tr>\n",
       "    <tr>\n",
       "      <th>mct</th>\n",
       "      <th></th>\n",
       "      <th></th>\n",
       "      <th></th>\n",
       "      <th></th>\n",
       "    </tr>\n",
       "  </thead>\n",
       "  <tbody>\n",
       "    <tr>\n",
       "      <th>0.050</th>\n",
       "      <td>162</td>\n",
       "      <td>25</td>\n",
       "      <td>5</td>\n",
       "      <td>0</td>\n",
       "    </tr>\n",
       "    <tr>\n",
       "      <th>0.075</th>\n",
       "      <td>162</td>\n",
       "      <td>25</td>\n",
       "      <td>5</td>\n",
       "      <td>0</td>\n",
       "    </tr>\n",
       "    <tr>\n",
       "      <th>0.100</th>\n",
       "      <td>162</td>\n",
       "      <td>25</td>\n",
       "      <td>5</td>\n",
       "      <td>0</td>\n",
       "    </tr>\n",
       "  </tbody>\n",
       "</table>\n",
       "</div>"
      ],
      "text/plain": [
       "msv    0.001  0.005  0.010  0.050\n",
       "mct                              \n",
       "0.050    162     25      5      0\n",
       "0.075    162     25      5      0\n",
       "0.100    162     25      5      0"
      ]
     },
     "execution_count": 18,
     "metadata": {},
     "output_type": "execute_result"
    }
   ],
   "source": [
    "table = pd.pivot_table(Confidence_counts, values='counts', index='mct', columns='msv', fill_value=0)\n",
    "table"
   ]
  },
  {
   "cell_type": "code",
   "execution_count": 19,
   "id": "b89d5c80-70eb-4b54-8a64-6a17b3be4ef2",
   "metadata": {
    "tags": []
   },
   "outputs": [
    {
     "data": {
      "text/plain": [
       "<Axes: xlabel='msv', ylabel='mct'>"
      ]
     },
     "execution_count": 19,
     "metadata": {},
     "output_type": "execute_result"
    },
    {
     "data": {
      "image/png": "[encoded data removed]",
      "text/plain": [
       "<Figure size 640x480 with 2 Axes>"
      ]
     },
     "metadata": {},
     "output_type": "display_data"
    }
   ],
   "source": [
    "sns.heatmap(table, annot=True, fmt='g')"
   ]
  },
  {
   "cell_type": "code",
   "execution_count": 20,
   "id": "5eff4902-6a38-4d8a-883e-329dbebb71a8",
   "metadata": {
    "tags": []
   },
   "outputs": [
    {
     "data": {
      "text/html": [
       "<div>\n",
       "<style scoped>\n",
       "    .dataframe tbody tr th:only-of-type {\n",
       "        vertical-align: middle;\n",
       "    }\n",
       "\n",
       "    .dataframe tbody tr th {\n",
       "        vertical-align: top;\n",
       "    }\n",
       "\n",
       "    .dataframe thead th {\n",
       "        text-align: right;\n",
       "    }\n",
       "</style>\n",
       "<table border=\"1\" class=\"dataframe\">\n",
       "  <thead>\n",
       "    <tr style=\"text-align: right;\">\n",
       "      <th></th>\n",
       "      <th>support</th>\n",
       "      <th>itemsets</th>\n",
       "    </tr>\n",
       "  </thead>\n",
       "  <tbody>\n",
       "    <tr>\n",
       "      <th>0</th>\n",
       "      <td>0.020250</td>\n",
       "      <td>(UHT-milk)</td>\n",
       "    </tr>\n",
       "    <tr>\n",
       "      <th>1</th>\n",
       "      <td>0.008000</td>\n",
       "      <td>(baking powder)</td>\n",
       "    </tr>\n",
       "    <tr>\n",
       "      <th>2</th>\n",
       "      <td>0.033750</td>\n",
       "      <td>(beef)</td>\n",
       "    </tr>\n",
       "    <tr>\n",
       "      <th>3</th>\n",
       "      <td>0.021625</td>\n",
       "      <td>(berries)</td>\n",
       "    </tr>\n",
       "    <tr>\n",
       "      <th>4</th>\n",
       "      <td>0.015375</td>\n",
       "      <td>(beverages)</td>\n",
       "    </tr>\n",
       "    <tr>\n",
       "      <th>...</th>\n",
       "      <td>...</td>\n",
       "      <td>...</td>\n",
       "    </tr>\n",
       "    <tr>\n",
       "      <th>125</th>\n",
       "      <td>0.005250</td>\n",
       "      <td>(soda, tropical fruit)</td>\n",
       "    </tr>\n",
       "    <tr>\n",
       "      <th>126</th>\n",
       "      <td>0.013500</td>\n",
       "      <td>(whole milk, soda)</td>\n",
       "    </tr>\n",
       "    <tr>\n",
       "      <th>127</th>\n",
       "      <td>0.006250</td>\n",
       "      <td>(yogurt, soda)</td>\n",
       "    </tr>\n",
       "    <tr>\n",
       "      <th>128</th>\n",
       "      <td>0.009000</td>\n",
       "      <td>(whole milk, tropical fruit)</td>\n",
       "    </tr>\n",
       "    <tr>\n",
       "      <th>129</th>\n",
       "      <td>0.011875</td>\n",
       "      <td>(yogurt, whole milk)</td>\n",
       "    </tr>\n",
       "  </tbody>\n",
       "</table>\n",
       "<p>130 rows × 2 columns</p>\n",
       "</div>"
      ],
      "text/plain": [
       "      support                      itemsets\n",
       "0    0.020250                    (UHT-milk)\n",
       "1    0.008000               (baking powder)\n",
       "2    0.033750                        (beef)\n",
       "3    0.021625                     (berries)\n",
       "4    0.015375                   (beverages)\n",
       "..        ...                           ...\n",
       "125  0.005250        (soda, tropical fruit)\n",
       "126  0.013500            (whole milk, soda)\n",
       "127  0.006250                (yogurt, soda)\n",
       "128  0.009000  (whole milk, tropical fruit)\n",
       "129  0.011875          (yogurt, whole milk)\n",
       "\n",
       "[130 rows x 2 columns]"
      ]
     },
     "execution_count": 20,
     "metadata": {},
     "output_type": "execute_result"
    }
   ],
   "source": [
    "itemsets = apriori(df, min_support=0.005, use_colnames=True)\n",
    "itemsets"
   ]
  },
  {
   "cell_type": "code",
   "execution_count": 25,
   "id": "4409a7b0-ee48-4028-8d94-3b91353e1104",
   "metadata": {
    "tags": []
   },
   "outputs": [
    {
     "name": "stdout",
     "output_type": "stream",
     "text": [
      "      antecedents   consequents  confidence\n",
      "1  (bottled beer)  (whole milk)    0.159091\n"
     ]
    }
   ],
   "source": [
    "max_confidence_rule = association_rules(itemsets, metric=\"confidence\", min_threshold=0.1)\n",
    "max_confidence_rule = max_confidence_rule[max_confidence_rule['support'] >= 0.005].sort_values(by='confidence', ascending=False).head(1)\n",
    "\n",
    "print(max_confidence_rule[['antecedents', 'consequents', 'confidence']])"
   ]
  },
  {
   "cell_type": "markdown",
   "id": "30b877ae-ae39-4641-83a9-fc05b0f084ba",
   "metadata": {},
   "source": [
    "The association rule with the highest confidence for a minimum support of 0.005 is:\n",
    "Rule: (bottled beer) ->(whole milk)    confidence: 0.159091"
   ]
  },
  {
   "cell_type": "markdown",
   "id": "e43baae9-ae4b-4053-91d2-05f9fec07e39",
   "metadata": {},
   "source": [
    "# Image Classification using CNN"
   ]
  },
  {
   "cell_type": "code",
   "execution_count": 30,
   "id": "9bb8734d-42d6-43c9-88d1-5b17cd11fea6",
   "metadata": {
    "tags": []
   },
   "outputs": [],
   "source": [
    "#Loading assigned dataset\n",
    "dataset_path = Path(\"/Users/alokkumarjha/Downloads/Images\")"
   ]
  },
  {
   "cell_type": "code",
   "execution_count": 31,
   "id": "1055930d-591a-4879-8899-f36f1f6170cd",
   "metadata": {
    "tags": []
   },
   "outputs": [],
   "source": [
    "datagen = ImageDataGenerator(\n",
    "    rescale=1./255,\n",
    "    validation_split=0.2 \n",
    ")"
   ]
  },
  {
   "cell_type": "code",
   "execution_count": 32,
   "id": "5ab58ca2-78fa-44f2-930c-a372bd50a475",
   "metadata": {
    "tags": []
   },
   "outputs": [
    {
     "name": "stdout",
     "output_type": "stream",
     "text": [
      "Found 529 images belonging to 4 classes.\n"
     ]
    }
   ],
   "source": [
    "train_generator = datagen.flow_from_directory(\n",
    "    dataset_path,\n",
    "    target_size=(256, 256),  \n",
    "    batch_size=20,\n",
    "    class_mode='categorical',\n",
    "    subset='training' \n",
    ")"
   ]
  },
  {
   "cell_type": "code",
   "execution_count": 33,
   "id": "a00c54c7-c117-4005-8007-9d06fe9dda2c",
   "metadata": {
    "tags": []
   },
   "outputs": [
    {
     "name": "stdout",
     "output_type": "stream",
     "text": [
      "Found 130 images belonging to 4 classes.\n"
     ]
    }
   ],
   "source": [
    "validation_generator = datagen.flow_from_directory(\n",
    "    dataset_path,\n",
    "    target_size=(256, 256),\n",
    "    batch_size=20,\n",
    "    class_mode='categorical',\n",
    "    subset='validation' \n",
    ")"
   ]
  },
  {
   "cell_type": "markdown",
   "id": "fb066649-0110-4963-818e-62f0600adfbc",
   "metadata": {},
   "source": [
    "Reference: https://www.learndatasci.com/tutorials/convolutional-neural-networks-image-classification/"
   ]
  },
  {
   "cell_type": "code",
   "execution_count": 34,
   "id": "0fa99c61-7f3f-434e-a8e9-969d27491487",
   "metadata": {
    "tags": []
   },
   "outputs": [],
   "source": [
    "# Convolutional Layer with 8 3 × 3 filters, max pooling with 2 × 2 pool size.\n",
    "\n",
    "model = Sequential()\n",
    "model.add(Conv2D(8, (3, 3), activation='relu', input_shape=(256, 256, 3)))\n",
    "model.add(MaxPooling2D((2, 2)))\n",
    "model.add(Flatten())\n",
    "model.add(Dense(16, activation='relu'))\n",
    "model.add(Dense(4, activation='softmax'))\n",
    "\n",
    "model.compile(optimizer='adam', loss='categorical_crossentropy', metrics=['accuracy'])"
   ]
  },
  {
   "cell_type": "code",
   "execution_count": 35,
   "id": "f5de342c-32c3-45a5-81cd-f09e7069153f",
   "metadata": {
    "tags": []
   },
   "outputs": [
    {
     "name": "stdout",
     "output_type": "stream",
     "text": [
      "Epoch 1/20\n",
      "26/26 [==============================] - 12s 420ms/step - loss: 2.2547 - accuracy: 0.2770 - val_loss: 1.3862 - val_accuracy: 0.2583\n",
      "Epoch 2/20\n",
      "26/26 [==============================] - 10s 369ms/step - loss: 1.3860 - accuracy: 0.2692 - val_loss: 1.3860 - val_accuracy: 0.2583\n",
      "Epoch 3/20\n",
      "26/26 [==============================] - 9s 332ms/step - loss: 1.3858 - accuracy: 0.2633 - val_loss: 1.3852 - val_accuracy: 0.2667\n",
      "Epoch 4/20\n",
      "26/26 [==============================] - 9s 347ms/step - loss: 1.3852 - accuracy: 0.2750 - val_loss: 1.3856 - val_accuracy: 0.2833\n",
      "Epoch 5/20\n",
      "26/26 [==============================] - 10s 367ms/step - loss: 1.3852 - accuracy: 0.2672 - val_loss: 1.3852 - val_accuracy: 0.2667\n",
      "Epoch 6/20\n",
      "26/26 [==============================] - 9s 352ms/step - loss: 1.3848 - accuracy: 0.2711 - val_loss: 1.3836 - val_accuracy: 0.2750\n",
      "Epoch 7/20\n",
      "26/26 [==============================] - 10s 371ms/step - loss: 1.3850 - accuracy: 0.2672 - val_loss: 1.3849 - val_accuracy: 0.2667\n",
      "Epoch 8/20\n",
      "26/26 [==============================] - 9s 356ms/step - loss: 1.3846 - accuracy: 0.2711 - val_loss: 1.3844 - val_accuracy: 0.2750\n",
      "Epoch 9/20\n",
      "26/26 [==============================] - 9s 334ms/step - loss: 1.3844 - accuracy: 0.2692 - val_loss: 1.3848 - val_accuracy: 0.2583\n",
      "Epoch 10/20\n",
      "26/26 [==============================] - 10s 358ms/step - loss: 1.3840 - accuracy: 0.2731 - val_loss: 1.3858 - val_accuracy: 0.2500\n",
      "Epoch 11/20\n",
      "26/26 [==============================] - 9s 353ms/step - loss: 1.3842 - accuracy: 0.2672 - val_loss: 1.3846 - val_accuracy: 0.2667\n",
      "Epoch 12/20\n",
      "26/26 [==============================] - 10s 365ms/step - loss: 1.3832 - accuracy: 0.2731 - val_loss: 1.3851 - val_accuracy: 0.2500\n",
      "Epoch 13/20\n",
      "26/26 [==============================] - 10s 385ms/step - loss: 1.3837 - accuracy: 0.2515 - val_loss: 1.3850 - val_accuracy: 0.2500\n",
      "Epoch 14/20\n",
      "26/26 [==============================] - 10s 375ms/step - loss: 1.3834 - accuracy: 0.2652 - val_loss: 1.3836 - val_accuracy: 0.2750\n",
      "Epoch 15/20\n",
      "26/26 [==============================] - 10s 391ms/step - loss: 1.3830 - accuracy: 0.2613 - val_loss: 1.3834 - val_accuracy: 0.2583\n",
      "Epoch 16/20\n",
      "26/26 [==============================] - 10s 375ms/step - loss: 1.3837 - accuracy: 0.2613 - val_loss: 1.3833 - val_accuracy: 0.2833\n",
      "Epoch 17/20\n",
      "26/26 [==============================] - 11s 425ms/step - loss: 1.3840 - accuracy: 0.2397 - val_loss: 1.3806 - val_accuracy: 0.2750\n",
      "Epoch 18/20\n",
      "26/26 [==============================] - 10s 370ms/step - loss: 1.3824 - accuracy: 0.2633 - val_loss: 1.3816 - val_accuracy: 0.2750\n",
      "Epoch 19/20\n",
      "26/26 [==============================] - 9s 340ms/step - loss: 1.3828 - accuracy: 0.2731 - val_loss: 1.3820 - val_accuracy: 0.2750\n",
      "Epoch 20/20\n",
      "26/26 [==============================] - 10s 363ms/step - loss: 1.3827 - accuracy: 0.2358 - val_loss: 1.3821 - val_accuracy: 0.2750\n"
     ]
    }
   ],
   "source": [
    "history = model.fit(\n",
    "    train_generator,\n",
    "    steps_per_epoch=train_generator.samples // train_generator.batch_size,\n",
    "    epochs=20,  \n",
    "    validation_data=validation_generator,\n",
    "    validation_steps=validation_generator.samples // validation_generator.batch_size\n",
    ")"
   ]
  },
  {
   "cell_type": "code",
   "execution_count": 36,
   "id": "9da14792-e4f1-4d86-9880-80e88599ba02",
   "metadata": {
    "tags": []
   },
   "outputs": [
    {
     "data": {
      "image/png": "[encoded data removed]",
      "text/plain": [
       "<Figure size 640x480 with 1 Axes>"
      ]
     },
     "metadata": {},
     "output_type": "display_data"
    }
   ],
   "source": [
    "plt.plot(history.history[\"accuracy\"], label=\"Training Accuracy\")\n",
    "plt.plot(history.history[\"val_accuracy\"], label=\"Validation Accuracy\")\n",
    "plt.xlabel(\"Number of Epochs\")\n",
    "plt.ylabel(\"Training and Validation accuracy \")\n",
    "plt.legend()\n",
    "plt.show()"
   ]
  },
  {
   "cell_type": "code",
   "execution_count": 37,
   "id": "4d9acfcd-5a75-439c-8641-a00fe9d67e5c",
   "metadata": {
    "tags": []
   },
   "outputs": [
    {
     "name": "stdout",
     "output_type": "stream",
     "text": [
      "Model - Validation Loss: 1.383488655090332\n",
      "Model - Validation Accuracy: 0.26923078298568726\n"
     ]
    }
   ],
   "source": [
    "score = model.evaluate(validation_generator, verbose=0)\n",
    "print(\"Model - Validation Loss:\", score[0])\n",
    "print(\"Model - Validation Accuracy:\", score[1])"
   ]
  },
  {
   "cell_type": "code",
   "execution_count": 38,
   "id": "d646ffd7-8f84-468a-bf4b-af248e8f8c82",
   "metadata": {
    "tags": []
   },
   "outputs": [
    {
     "name": "stdout",
     "output_type": "stream",
     "text": [
      "Banner id:  916462010\n"
     ]
    }
   ],
   "source": [
    "Banner_id = '916462010'\n",
    "print('Banner id: ', Banner_id)"
   ]
  },
  {
   "cell_type": "markdown",
   "id": "c1cec29f-6f08-41b4-89d7-a1ec6ff546a9",
   "metadata": {},
   "source": [
    "Banner id last digit is 0. So, Training the CNN using 2 other filter sizes: 5 × 5 and 7 × 7 for the convolution layer with all other parameters unchanged."
   ]
  },
  {
   "cell_type": "code",
   "execution_count": 39,
   "id": "cd24c71e-defe-41be-8f92-474814b0ea78",
   "metadata": {
    "tags": []
   },
   "outputs": [],
   "source": [
    "#CNN using filter sizes: 5 × 5 \n",
    "\n",
    "model_5x5 = Sequential()\n",
    "model_5x5.add(Conv2D(8, (5, 5), activation='relu', input_shape=(256, 256, 3)))\n",
    "model_5x5.add(MaxPooling2D((2, 2)))\n",
    "model_5x5.add(Flatten())\n",
    "model_5x5.add(Dense(16, activation='relu'))\n",
    "model_5x5.add(Dense(4, activation='softmax'))\n",
    "\n",
    "model_5x5.compile(optimizer='adam', loss='categorical_crossentropy', metrics=['accuracy'])"
   ]
  },
  {
   "cell_type": "code",
   "execution_count": 40,
   "id": "2ee2574b-13c8-4016-a896-23dd77e6ffb8",
   "metadata": {
    "tags": []
   },
   "outputs": [
    {
     "name": "stdout",
     "output_type": "stream",
     "text": [
      "Epoch 1/20\n",
      "26/26 [==============================] - 17s 628ms/step - loss: 2.1277 - accuracy: 0.2731 - val_loss: 1.4004 - val_accuracy: 0.2833\n",
      "Epoch 2/20\n",
      "26/26 [==============================] - 15s 588ms/step - loss: 1.3315 - accuracy: 0.3870 - val_loss: 1.3789 - val_accuracy: 0.2167\n",
      "Epoch 3/20\n",
      "26/26 [==============================] - 16s 606ms/step - loss: 1.1458 - accuracy: 0.6012 - val_loss: 1.4664 - val_accuracy: 0.3083\n",
      "Epoch 4/20\n",
      "26/26 [==============================] - 17s 629ms/step - loss: 0.8025 - accuracy: 0.7878 - val_loss: 1.4682 - val_accuracy: 0.3167\n",
      "Epoch 5/20\n",
      "26/26 [==============================] - 16s 606ms/step - loss: 0.4076 - accuracy: 0.9234 - val_loss: 1.5656 - val_accuracy: 0.4083\n",
      "Epoch 6/20\n",
      "26/26 [==============================] - 18s 679ms/step - loss: 0.1597 - accuracy: 0.9882 - val_loss: 1.4571 - val_accuracy: 0.4500\n",
      "Epoch 7/20\n",
      "26/26 [==============================] - 15s 592ms/step - loss: 0.0682 - accuracy: 1.0000 - val_loss: 1.6827 - val_accuracy: 0.4167\n",
      "Epoch 8/20\n",
      "26/26 [==============================] - 16s 621ms/step - loss: 0.0282 - accuracy: 1.0000 - val_loss: 1.5129 - val_accuracy: 0.4750\n",
      "Epoch 9/20\n",
      "26/26 [==============================] - 15s 577ms/step - loss: 0.0192 - accuracy: 1.0000 - val_loss: 1.7277 - val_accuracy: 0.4500\n",
      "Epoch 10/20\n",
      "26/26 [==============================] - 15s 555ms/step - loss: 0.0093 - accuracy: 1.0000 - val_loss: 1.6906 - val_accuracy: 0.4583\n",
      "Epoch 11/20\n",
      "26/26 [==============================] - 15s 562ms/step - loss: 0.0062 - accuracy: 1.0000 - val_loss: 1.6867 - val_accuracy: 0.4583\n",
      "Epoch 12/20\n",
      "26/26 [==============================] - 14s 550ms/step - loss: 0.0045 - accuracy: 1.0000 - val_loss: 1.6591 - val_accuracy: 0.4583\n",
      "Epoch 13/20\n",
      "26/26 [==============================] - 15s 560ms/step - loss: 0.0036 - accuracy: 1.0000 - val_loss: 1.7032 - val_accuracy: 0.4917\n",
      "Epoch 14/20\n",
      "26/26 [==============================] - 15s 587ms/step - loss: 0.0029 - accuracy: 1.0000 - val_loss: 1.6679 - val_accuracy: 0.4583\n",
      "Epoch 15/20\n",
      "26/26 [==============================] - 15s 570ms/step - loss: 0.0025 - accuracy: 1.0000 - val_loss: 1.7064 - val_accuracy: 0.4417\n",
      "Epoch 16/20\n",
      "26/26 [==============================] - 16s 595ms/step - loss: 0.0020 - accuracy: 1.0000 - val_loss: 1.6910 - val_accuracy: 0.4583\n",
      "Epoch 17/20\n",
      "26/26 [==============================] - 15s 593ms/step - loss: 0.0018 - accuracy: 1.0000 - val_loss: 1.7690 - val_accuracy: 0.4500\n",
      "Epoch 18/20\n",
      "26/26 [==============================] - 15s 569ms/step - loss: 0.0016 - accuracy: 1.0000 - val_loss: 1.6499 - val_accuracy: 0.4583\n",
      "Epoch 19/20\n",
      "26/26 [==============================] - 16s 617ms/step - loss: 0.0014 - accuracy: 1.0000 - val_loss: 1.8726 - val_accuracy: 0.4417\n",
      "Epoch 20/20\n",
      "26/26 [==============================] - 17s 635ms/step - loss: 0.0013 - accuracy: 1.0000 - val_loss: 1.7711 - val_accuracy: 0.4667\n"
     ]
    }
   ],
   "source": [
    "history_5x5 = model_5x5.fit(\n",
    "    train_generator,\n",
    "    steps_per_epoch=train_generator.samples // train_generator.batch_size,\n",
    "    epochs=20,\n",
    "    validation_data=validation_generator,\n",
    "    validation_steps=validation_generator.samples // validation_generator.batch_size\n",
    ")"
   ]
  },
  {
   "cell_type": "code",
   "execution_count": 41,
   "id": "64da5ddd-f788-48e0-a0fc-3d7a6e62014c",
   "metadata": {
    "tags": []
   },
   "outputs": [
    {
     "data": {
      "image/png": "[encoded data removed]",
      "text/plain": [
       "<Figure size 640x480 with 1 Axes>"
      ]
     },
     "metadata": {},
     "output_type": "display_data"
    }
   ],
   "source": [
    "plt.plot(history_5x5.history[\"accuracy\"], label=\"Training Accuracy\")\n",
    "plt.plot(history_5x5.history[\"val_accuracy\"], label=\"Validation Accuracy\")\n",
    "plt.xlabel(\"Number of Epochs\")\n",
    "plt.ylabel(\"Training and Validation accuracy \")\n",
    "plt.legend()\n",
    "plt.show()"
   ]
  },
  {
   "cell_type": "code",
   "execution_count": 42,
   "id": "99e5951a-5cd1-4d21-a2be-388842022fc6",
   "metadata": {
    "tags": []
   },
   "outputs": [
    {
     "name": "stdout",
     "output_type": "stream",
     "text": [
      "Filter Size 5x5 Model - Validation Loss: 1.7159208059310913\n",
      "Filter Size 5x5 Model - Validation Accuracy: 0.48461538553237915\n"
     ]
    }
   ],
   "source": [
    "score_5x5 = model_5x5.evaluate(validation_generator, verbose=0)\n",
    "print(\"Filter Size 5x5 Model - Validation Loss:\", score_5x5[0])\n",
    "print(\"Filter Size 5x5 Model - Validation Accuracy:\", score_5x5[1])"
   ]
  },
  {
   "cell_type": "code",
   "execution_count": 43,
   "id": "56772bd2-b434-48f6-8473-95f81e3a2a6a",
   "metadata": {
    "tags": []
   },
   "outputs": [],
   "source": [
    "#CNN using filter sizes: 7 × 7\n",
    "model_7x7 = Sequential()\n",
    "model_7x7.add(Conv2D(8, (7, 7), activation='relu', input_shape=(256, 256, 3)))\n",
    "model_7x7.add(MaxPooling2D((2, 2)))\n",
    "model_7x7.add(Flatten())\n",
    "model_7x7.add(Dense(16, activation='relu'))\n",
    "model_7x7.add(Dense(4, activation='softmax'))\n",
    "\n",
    "model_7x7.compile(optimizer='adam', loss='categorical_crossentropy', metrics=['accuracy'])"
   ]
  },
  {
   "cell_type": "code",
   "execution_count": 44,
   "id": "94986808-598a-4264-96a3-69144e41d76b",
   "metadata": {
    "tags": []
   },
   "outputs": [
    {
     "name": "stdout",
     "output_type": "stream",
     "text": [
      "Epoch 1/20\n",
      "26/26 [==============================] - 31s 1s/step - loss: 2.6719 - accuracy: 0.2515 - val_loss: 1.3860 - val_accuracy: 0.2750\n",
      "Epoch 2/20\n",
      "26/26 [==============================] - 29s 1s/step - loss: 1.3860 - accuracy: 0.2711 - val_loss: 1.3860 - val_accuracy: 0.2583\n",
      "Epoch 3/20\n",
      "26/26 [==============================] - 29s 1s/step - loss: 1.3858 - accuracy: 0.2711 - val_loss: 1.3856 - val_accuracy: 0.2750\n",
      "Epoch 4/20\n",
      "26/26 [==============================] - 29s 1s/step - loss: 1.3855 - accuracy: 0.2672 - val_loss: 1.3854 - val_accuracy: 0.2750\n",
      "Epoch 5/20\n",
      "26/26 [==============================] - 30s 1s/step - loss: 1.3854 - accuracy: 0.2672 - val_loss: 1.3849 - val_accuracy: 0.2750\n",
      "Epoch 6/20\n",
      "26/26 [==============================] - 30s 1s/step - loss: 1.3851 - accuracy: 0.2711 - val_loss: 1.3853 - val_accuracy: 0.2500\n",
      "Epoch 7/20\n",
      "26/26 [==============================] - 29s 1s/step - loss: 1.3848 - accuracy: 0.2711 - val_loss: 1.3837 - val_accuracy: 0.2833\n",
      "Epoch 8/20\n",
      "26/26 [==============================] - 29s 1s/step - loss: 1.3844 - accuracy: 0.2711 - val_loss: 1.3839 - val_accuracy: 0.2667\n",
      "Epoch 9/20\n",
      "26/26 [==============================] - 29s 1s/step - loss: 1.3842 - accuracy: 0.2731 - val_loss: 1.3828 - val_accuracy: 0.2917\n",
      "Epoch 10/20\n",
      "26/26 [==============================] - 29s 1s/step - loss: 1.3846 - accuracy: 0.2711 - val_loss: 1.3828 - val_accuracy: 0.2750\n",
      "Epoch 11/20\n",
      "26/26 [==============================] - 30s 1s/step - loss: 1.3835 - accuracy: 0.2731 - val_loss: 1.3843 - val_accuracy: 0.2833\n",
      "Epoch 12/20\n",
      "26/26 [==============================] - 29s 1s/step - loss: 1.3841 - accuracy: 0.2633 - val_loss: 1.3851 - val_accuracy: 0.2583\n",
      "Epoch 13/20\n",
      "26/26 [==============================] - 29s 1s/step - loss: 1.3838 - accuracy: 0.2711 - val_loss: 1.3835 - val_accuracy: 0.2833\n",
      "Epoch 14/20\n",
      "26/26 [==============================] - 29s 1s/step - loss: 1.3833 - accuracy: 0.2692 - val_loss: 1.3839 - val_accuracy: 0.2500\n",
      "Epoch 15/20\n",
      "26/26 [==============================] - 29s 1s/step - loss: 1.3833 - accuracy: 0.2672 - val_loss: 1.3838 - val_accuracy: 0.2667\n",
      "Epoch 16/20\n",
      "26/26 [==============================] - 29s 1s/step - loss: 1.3834 - accuracy: 0.2731 - val_loss: 1.3834 - val_accuracy: 0.2667\n",
      "Epoch 17/20\n",
      "26/26 [==============================] - 29s 1s/step - loss: 1.3837 - accuracy: 0.2750 - val_loss: 1.3826 - val_accuracy: 0.2667\n",
      "Epoch 18/20\n",
      "26/26 [==============================] - 29s 1s/step - loss: 1.3831 - accuracy: 0.2692 - val_loss: 1.3843 - val_accuracy: 0.2417\n",
      "Epoch 19/20\n",
      "26/26 [==============================] - 30s 1s/step - loss: 1.3829 - accuracy: 0.2790 - val_loss: 1.3830 - val_accuracy: 0.2833\n",
      "Epoch 20/20\n",
      "26/26 [==============================] - 29s 1s/step - loss: 1.3836 - accuracy: 0.2750 - val_loss: 1.3832 - val_accuracy: 0.2750\n"
     ]
    }
   ],
   "source": [
    "history_7x7 = model_7x7.fit(\n",
    "    train_generator,\n",
    "    steps_per_epoch=train_generator.samples // train_generator.batch_size,\n",
    "    epochs=20,\n",
    "    validation_data=validation_generator,\n",
    "    validation_steps=validation_generator.samples // validation_generator.batch_size\n",
    ")"
   ]
  },
  {
   "cell_type": "code",
   "execution_count": 45,
   "id": "724e6b84-4352-4b45-838d-2ab6d41ef419",
   "metadata": {
    "tags": []
   },
   "outputs": [
    {
     "data": {
      "image/png": "[encoded data removed]",
      "text/plain": [
       "<Figure size 640x480 with 1 Axes>"
      ]
     },
     "metadata": {},
     "output_type": "display_data"
    }
   ],
   "source": [
    "plt.plot(history_7x7.history[\"accuracy\"], label=\"Training Accuracy (Filter Size 7x7)\")\n",
    "plt.plot(history_7x7.history[\"val_accuracy\"], label=\"Validation Accuracy (Filter Size 7x7)\")\n",
    "plt.xlabel(\"Number of Epochs\")\n",
    "plt.ylabel(\"Training and Validation accuracy \")\n",
    "plt.legend()\n",
    "plt.show()"
   ]
  },
  {
   "cell_type": "code",
   "execution_count": 46,
   "id": "ddca7d63-67e8-43d4-8e07-f7c9cc9cb874",
   "metadata": {
    "tags": []
   },
   "outputs": [
    {
     "name": "stdout",
     "output_type": "stream",
     "text": [
      "Filter Size 7x7 Model - Validation Loss: 1.383507251739502\n",
      "Filter Size 7x7 Model - Validation Accuracy: 0.26923078298568726\n"
     ]
    }
   ],
   "source": [
    "score_7x7 = model_7x7.evaluate(validation_generator, verbose=0)\n",
    "print(\"Filter Size 7x7 Model - Validation Loss:\", score_7x7[0])\n",
    "print(\"Filter Size 7x7 Model - Validation Accuracy:\", score_7x7[1])"
   ]
  },
  {
   "cell_type": "markdown",
   "id": "f39643c4-c6fa-4734-b0b9-a0874ad7b61f",
   "metadata": {},
   "source": [
    "From the 3 above graph, CNN using 3 × 3 filters is underfitting, CNN using 5×5 filters is  overfitting. CNN using 7×7 filters is Good fit model as Towards the end, both training and validation accuracies have increased, and there is a small gap between them. Based on performance of the models, Validation accuracy is more for  5×5 filters (0.484). So, it is the best model."
   ]
  }
 ],
 "metadata": {
  "kernelspec": {
   "display_name": "Python 3 (ipykernel)",
   "language": "python",
   "name": "python3"
  },
  "language_info": {
   "codemirror_mode": {
    "name": "ipython",
    "version": 3
   },
   "file_extension": ".py",
   "mimetype": "text/x-python",
   "name": "python",
   "nbconvert_exporter": "python",
   "pygments_lexer": "ipython3",
   "version": "3.11.5"
  }
 },
 "nbformat": 4,
 "nbformat_minor": 5
}
